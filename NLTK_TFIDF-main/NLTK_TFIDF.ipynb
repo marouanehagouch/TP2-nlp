{
 "cells": [
  {
   "cell_type": "code",
   "execution_count": 6,
   "id": "8ea736c2",
   "metadata": {},
   "outputs": [
    {
     "name": "stderr",
     "output_type": "stream",
     "text": [
      "[nltk_data] Downloading package punkt to C:\\Users\\Mouad\n",
      "[nltk_data]     AITALI\\AppData\\Roaming\\nltk_data...\n",
      "[nltk_data]   Package punkt is already up-to-date!\n"
     ]
    }
   ],
   "source": [
    "import nltk\n",
    "\n",
    "documentA = 'Apple Inc. is an American multinational technology company that specializes in consumer electronics, computer software, and online services. Apple is the world\\'s largest technology company by revenue and, since January 2021, the world\\'s most valuable company'\n",
    "documentB = 'Google LLC is an American multinational technology company that specializes in Internet-related services and products, which include online advertising technologies, a search engine, cloud computing, software, and hardware'\n",
    "\n",
    "nltk.download('punkt')\n",
    "tokenize_A = nltk.word_tokenize(documentA)\n",
    "tokenize_B = nltk.word_tokenize(documentB)\n",
    "uniqueWords = set(tokenize_A).union(set(tokenize_B))"
   ]
  },
  {
   "cell_type": "code",
   "execution_count": 7,
   "id": "30503e84",
   "metadata": {},
   "outputs": [
    {
     "name": "stdout",
     "output_type": "stream",
     "text": [
      "<class 'set'>\n"
     ]
    },
    {
     "data": {
      "text/plain": [
       "{'and': 0,\n",
       " 'technology': 0,\n",
       " 'that': 0,\n",
       " 'January': 0,\n",
       " 'American': 0,\n",
       " 'is': 0,\n",
       " 'consumer': 0,\n",
       " 'an': 0,\n",
       " '.': 0,\n",
       " 'which': 0,\n",
       " 'Inc.': 0,\n",
       " 'include': 0,\n",
       " 'multinational': 0,\n",
       " 'hardware': 0,\n",
       " 'Apple': 0,\n",
       " 'since': 0,\n",
       " 'by': 0,\n",
       " 'search': 0,\n",
       " 'engine': 0,\n",
       " 'Google': 0,\n",
       " 'products': 0,\n",
       " 'valuable': 0,\n",
       " ',': 0,\n",
       " 'services': 0,\n",
       " 'LLC': 0,\n",
       " '2021': 0,\n",
       " 'electronics': 0,\n",
       " 'computing': 0,\n",
       " 'largest': 0,\n",
       " 'world': 0,\n",
       " 'most': 0,\n",
       " 'computer': 0,\n",
       " 'revenue': 0,\n",
       " 'in': 0,\n",
       " \"'s\": 0,\n",
       " 'technologies': 0,\n",
       " 'company': 0,\n",
       " 'software': 0,\n",
       " 'online': 0,\n",
       " 'advertising': 0,\n",
       " 'specializes': 0,\n",
       " 'cloud': 0,\n",
       " 'the': 0,\n",
       " 'a': 0,\n",
       " 'Internet-related': 0}"
      ]
     },
     "execution_count": 7,
     "metadata": {},
     "output_type": "execute_result"
    }
   ],
   "source": [
    "print(type(uniqueWords))\n",
    "dict.fromkeys(uniqueWords, 0)"
   ]
  },
  {
   "cell_type": "code",
   "execution_count": 8,
   "id": "78bcff49",
   "metadata": {},
   "outputs": [],
   "source": [
    "#Count the number of occurrences of all uniqueWords in each file"
   ]
  },
  {
   "cell_type": "code",
   "execution_count": 9,
   "id": "10f8f626",
   "metadata": {},
   "outputs": [],
   "source": [
    "numOfWordsA = dict.fromkeys(uniqueWords, 0)\n",
    "for word in tokenize_A:\n",
    "    numOfWordsA[word] += 1\n",
    "numOfWordsB = dict.fromkeys(uniqueWords, 0)\n",
    "for word in tokenize_B:\n",
    "    numOfWordsB[word] += 1"
   ]
  },
  {
   "cell_type": "code",
   "execution_count": 10,
   "id": "f1ce8429",
   "metadata": {},
   "outputs": [
    {
     "name": "stdout",
     "output_type": "stream",
     "text": [
      "{'and': 2, 'technology': 2, 'that': 1, 'January': 1, 'American': 1, 'is': 2, 'consumer': 1, 'an': 1, '.': 1, 'which': 0, 'Inc.': 1, 'include': 0, 'multinational': 1, 'hardware': 0, 'Apple': 2, 'since': 1, 'by': 1, 'search': 0, 'engine': 0, 'Google': 0, 'products': 0, 'valuable': 1, ',': 4, 'services': 1, 'LLC': 0, '2021': 1, 'electronics': 1, 'computing': 0, 'largest': 1, 'world': 2, 'most': 1, 'computer': 1, 'revenue': 1, 'in': 1, \"'s\": 2, 'technologies': 0, 'company': 3, 'software': 1, 'online': 1, 'advertising': 0, 'specializes': 1, 'cloud': 0, 'the': 2, 'a': 0, 'Internet-related': 0}\n"
     ]
    }
   ],
   "source": [
    "print(numOfWordsA)"
   ]
  },
  {
   "cell_type": "code",
   "execution_count": 11,
   "id": "646fc5a7",
   "metadata": {},
   "outputs": [
    {
     "name": "stdout",
     "output_type": "stream",
     "text": [
      "{'and': 2, 'technology': 1, 'that': 1, 'January': 0, 'American': 1, 'is': 1, 'consumer': 0, 'an': 1, '.': 0, 'which': 1, 'Inc.': 0, 'include': 1, 'multinational': 1, 'hardware': 1, 'Apple': 0, 'since': 0, 'by': 0, 'search': 1, 'engine': 1, 'Google': 1, 'products': 1, 'valuable': 0, ',': 5, 'services': 1, 'LLC': 1, '2021': 0, 'electronics': 0, 'computing': 1, 'largest': 0, 'world': 0, 'most': 0, 'computer': 0, 'revenue': 0, 'in': 1, \"'s\": 0, 'technologies': 1, 'company': 1, 'software': 1, 'online': 1, 'advertising': 1, 'specializes': 1, 'cloud': 1, 'the': 0, 'a': 1, 'Internet-related': 1}\n"
     ]
    }
   ],
   "source": [
    "print(numOfWordsB)"
   ]
  },
  {
   "cell_type": "code",
   "execution_count": 12,
   "id": "f906716b",
   "metadata": {},
   "outputs": [],
   "source": [
    "#Calculate TF"
   ]
  },
  {
   "cell_type": "code",
   "execution_count": 13,
   "id": "a0b0be05",
   "metadata": {},
   "outputs": [
    {
     "name": "stdout",
     "output_type": "stream",
     "text": [
      "['Apple', 'Inc.', 'is', 'an', 'American', 'multinational', 'technology', 'company', 'that', 'specializes', 'in', 'consumer', 'electronics', ',', 'computer', 'software', ',', 'and', 'online', 'services', '.', 'Apple', 'is', 'the', 'world', \"'s\", 'largest', 'technology', 'company', 'by', 'revenue', 'and', ',', 'since', 'January', '2021', ',', 'the', 'world', \"'s\", 'most', 'valuable', 'company']\n",
      "{'and': 2, 'technology': 2, 'that': 1, 'January': 1, 'American': 1, 'is': 2, 'consumer': 1, 'an': 1, '.': 1, 'which': 0, 'Inc.': 1, 'include': 0, 'multinational': 1, 'hardware': 0, 'Apple': 2, 'since': 1, 'by': 1, 'search': 0, 'engine': 0, 'Google': 0, 'products': 0, 'valuable': 1, ',': 4, 'services': 1, 'LLC': 0, '2021': 1, 'electronics': 1, 'computing': 0, 'largest': 1, 'world': 2, 'most': 1, 'computer': 1, 'revenue': 1, 'in': 1, \"'s\": 2, 'technologies': 0, 'company': 3, 'software': 1, 'online': 1, 'advertising': 0, 'specializes': 1, 'cloud': 0, 'the': 2, 'a': 0, 'Internet-related': 0}\n"
     ]
    }
   ],
   "source": [
    "print(tokenize_A) \n",
    "print(numOfWordsA)"
   ]
  },
  {
   "cell_type": "code",
   "execution_count": 14,
   "id": "ca143bb7",
   "metadata": {},
   "outputs": [],
   "source": [
    "def computeTF(wordDict, tokenize_item):\n",
    "    tfDict = {}\n",
    "    bagOfWordsCount = len(tokenize_item) \n",
    "    print(bagOfWordsCount)\n",
    "    for word, count in wordDict.items():\n",
    "        tfDict[word] = count / bagOfWordsCount\n",
    "    return tfDict"
   ]
  },
  {
   "cell_type": "code",
   "execution_count": 15,
   "id": "f61b7bef",
   "metadata": {},
   "outputs": [
    {
     "name": "stdout",
     "output_type": "stream",
     "text": [
      "{'and': 2, 'technology': 2, 'that': 2, 'January': 1, 'American': 2, 'is': 2, 'consumer': 1, 'an': 2, '.': 1, 'which': 1, 'Inc.': 1, 'include': 1, 'multinational': 2, 'hardware': 1, 'Apple': 1, 'since': 1, 'by': 1, 'search': 1, 'engine': 1, 'Google': 1, 'products': 1, 'valuable': 1, ',': 2, 'services': 2, 'LLC': 1, '2021': 1, 'electronics': 1, 'computing': 1, 'largest': 1, 'world': 1, 'most': 1, 'computer': 1, 'revenue': 1, 'in': 2, \"'s\": 1, 'technologies': 1, 'company': 2, 'software': 2, 'online': 2, 'advertising': 1, 'specializes': 2, 'cloud': 1, 'the': 1, 'a': 1, 'Internet-related': 1}\n"
     ]
    }
   ],
   "source": [
    "import math\n",
    "N = len([numOfWordsA, numOfWordsB])\n",
    "    \n",
    "idfDict = dict.fromkeys([numOfWordsA, numOfWordsB][0].keys(), 0)\n",
    "k = 0\n",
    "for document in [numOfWordsA, numOfWordsB]:\n",
    "  for word, val in document.items(): \n",
    "    if val > 0:\n",
    "      idfDict[word] += 1 \n",
    "print(idfDict)  \n",
    "\n",
    "\n",
    "\n",
    "for word, val in idfDict.items():\n",
    "  idfDict[word] =  math.log(N / float(val))"
   ]
  },
  {
   "cell_type": "code",
   "execution_count": 16,
   "id": "299f8b1d",
   "metadata": {},
   "outputs": [],
   "source": [
    "def computeIDF(documentsDict):\n",
    "    \"\"\"\n",
    "    documentsDict:為一個list，包含所有文件的wordDict\n",
    "    \"\"\"\n",
    "    import math\n",
    "    N = len(documentsDict)\n",
    "    \n",
    "    idfDict = dict.fromkeys(documentsDict[0].keys(), 0)\n",
    "    print(idfDict)\n",
    "    for document in documentsDict: #doc A or doc b\n",
    "        for word, val in document.items(): \n",
    "            if val > 0:\n",
    "                idfDict[word] += 1\n",
    "    for word, val in idfDict.items():\n",
    "        idfDict[word] =  math.log(N / float(val))\n",
    "    return idfDict"
   ]
  },
  {
   "cell_type": "code",
   "execution_count": 17,
   "id": "b7633b29",
   "metadata": {},
   "outputs": [],
   "source": [
    "#Calculate TFIDF"
   ]
  },
  {
   "cell_type": "code",
   "execution_count": 18,
   "id": "68938dc9",
   "metadata": {},
   "outputs": [],
   "source": [
    "def computeTFIDF(tf_item, idfs):\n",
    "    tfidf = {}\n",
    "    for word, val in tf_item.items():\n",
    "        tfidf[word] = val * idfs[word]\n",
    "    return tfidf"
   ]
  },
  {
   "cell_type": "code",
   "execution_count": 19,
   "id": "556620a0",
   "metadata": {},
   "outputs": [
    {
     "name": "stdout",
     "output_type": "stream",
     "text": [
      "43\n",
      "33\n",
      "{'and': 0, 'technology': 0, 'that': 0, 'January': 0, 'American': 0, 'is': 0, 'consumer': 0, 'an': 0, '.': 0, 'which': 0, 'Inc.': 0, 'include': 0, 'multinational': 0, 'hardware': 0, 'Apple': 0, 'since': 0, 'by': 0, 'search': 0, 'engine': 0, 'Google': 0, 'products': 0, 'valuable': 0, ',': 0, 'services': 0, 'LLC': 0, '2021': 0, 'electronics': 0, 'computing': 0, 'largest': 0, 'world': 0, 'most': 0, 'computer': 0, 'revenue': 0, 'in': 0, \"'s\": 0, 'technologies': 0, 'company': 0, 'software': 0, 'online': 0, 'advertising': 0, 'specializes': 0, 'cloud': 0, 'the': 0, 'a': 0, 'Internet-related': 0}\n"
     ]
    }
   ],
   "source": [
    "tfA = computeTF(numOfWordsA, tokenize_A)\n",
    "tfB = computeTF(numOfWordsB, tokenize_B)\n",
    "\n",
    "idfs = computeIDF([numOfWordsA, numOfWordsB])\n",
    "\n",
    "\n",
    "tfidfA = computeTFIDF(tfA, idfs)\n",
    "tfidfB = computeTFIDF(tfB, idfs)"
   ]
  },
  {
   "cell_type": "code",
   "execution_count": 20,
   "id": "d58fbe33",
   "metadata": {},
   "outputs": [
    {
     "data": {
      "text/plain": [
       "{'and': 0.0,\n",
       " 'technology': 0.0,\n",
       " 'that': 0.0,\n",
       " 'January': 0.0161197018734871,\n",
       " 'American': 0.0,\n",
       " 'is': 0.0,\n",
       " 'consumer': 0.0161197018734871,\n",
       " 'an': 0.0,\n",
       " '.': 0.0161197018734871,\n",
       " 'which': 0.0,\n",
       " 'Inc.': 0.0161197018734871,\n",
       " 'include': 0.0,\n",
       " 'multinational': 0.0,\n",
       " 'hardware': 0.0,\n",
       " 'Apple': 0.0322394037469742,\n",
       " 'since': 0.0161197018734871,\n",
       " 'by': 0.0161197018734871,\n",
       " 'search': 0.0,\n",
       " 'engine': 0.0,\n",
       " 'Google': 0.0,\n",
       " 'products': 0.0,\n",
       " 'valuable': 0.0161197018734871,\n",
       " ',': 0.0,\n",
       " 'services': 0.0,\n",
       " 'LLC': 0.0,\n",
       " '2021': 0.0161197018734871,\n",
       " 'electronics': 0.0161197018734871,\n",
       " 'computing': 0.0,\n",
       " 'largest': 0.0161197018734871,\n",
       " 'world': 0.0322394037469742,\n",
       " 'most': 0.0161197018734871,\n",
       " 'computer': 0.0161197018734871,\n",
       " 'revenue': 0.0161197018734871,\n",
       " 'in': 0.0,\n",
       " \"'s\": 0.0322394037469742,\n",
       " 'technologies': 0.0,\n",
       " 'company': 0.0,\n",
       " 'software': 0.0,\n",
       " 'online': 0.0,\n",
       " 'advertising': 0.0,\n",
       " 'specializes': 0.0,\n",
       " 'cloud': 0.0,\n",
       " 'the': 0.0322394037469742,\n",
       " 'a': 0.0,\n",
       " 'Internet-related': 0.0}"
      ]
     },
     "execution_count": 20,
     "metadata": {},
     "output_type": "execute_result"
    }
   ],
   "source": [
    "tfidfA"
   ]
  },
  {
   "cell_type": "code",
   "execution_count": 21,
   "id": "64b7b553",
   "metadata": {},
   "outputs": [
    {
     "data": {
      "text/plain": [
       "{'and': 0.0,\n",
       " 'technology': 0.0,\n",
       " 'that': 0.0,\n",
       " 'January': 0.0,\n",
       " 'American': 0.0,\n",
       " 'is': 0.0,\n",
       " 'consumer': 0.0,\n",
       " 'an': 0.0,\n",
       " '.': 0.0,\n",
       " 'which': 0.02100446001696804,\n",
       " 'Inc.': 0.0,\n",
       " 'include': 0.02100446001696804,\n",
       " 'multinational': 0.0,\n",
       " 'hardware': 0.02100446001696804,\n",
       " 'Apple': 0.0,\n",
       " 'since': 0.0,\n",
       " 'by': 0.0,\n",
       " 'search': 0.02100446001696804,\n",
       " 'engine': 0.02100446001696804,\n",
       " 'Google': 0.02100446001696804,\n",
       " 'products': 0.02100446001696804,\n",
       " 'valuable': 0.0,\n",
       " ',': 0.0,\n",
       " 'services': 0.0,\n",
       " 'LLC': 0.02100446001696804,\n",
       " '2021': 0.0,\n",
       " 'electronics': 0.0,\n",
       " 'computing': 0.02100446001696804,\n",
       " 'largest': 0.0,\n",
       " 'world': 0.0,\n",
       " 'most': 0.0,\n",
       " 'computer': 0.0,\n",
       " 'revenue': 0.0,\n",
       " 'in': 0.0,\n",
       " \"'s\": 0.0,\n",
       " 'technologies': 0.02100446001696804,\n",
       " 'company': 0.0,\n",
       " 'software': 0.0,\n",
       " 'online': 0.0,\n",
       " 'advertising': 0.02100446001696804,\n",
       " 'specializes': 0.0,\n",
       " 'cloud': 0.02100446001696804,\n",
       " 'the': 0.0,\n",
       " 'a': 0.02100446001696804,\n",
       " 'Internet-related': 0.02100446001696804}"
      ]
     },
     "execution_count": 21,
     "metadata": {},
     "output_type": "execute_result"
    }
   ],
   "source": [
    "tfidfB"
   ]
  },
  {
   "cell_type": "code",
   "execution_count": null,
   "id": "942fd4f1",
   "metadata": {},
   "outputs": [],
   "source": []
  }
 ],
 "metadata": {
  "kernelspec": {
   "display_name": "Python 3 (ipykernel)",
   "language": "python",
   "name": "python3"
  },
  "language_info": {
   "codemirror_mode": {
    "name": "ipython",
    "version": 3
   },
   "file_extension": ".py",
   "mimetype": "text/x-python",
   "name": "python",
   "nbconvert_exporter": "python",
   "pygments_lexer": "ipython3",
   "version": "3.9.0"
  }
 },
 "nbformat": 4,
 "nbformat_minor": 5
}
